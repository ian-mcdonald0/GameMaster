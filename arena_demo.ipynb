{
 "cells": [
  {
   "cell_type": "code",
   "execution_count": 1,
   "metadata": {},
   "outputs": [],
   "source": [
    "import os\n",
    "from character import *\n",
    "from Arena_Class import *\n",
    "from itemClass import *\n",
    "import json\n"
   ]
  },
  {
   "cell_type": "code",
   "execution_count": 2,
   "metadata": {},
   "outputs": [],
   "source": [
    "with open(\"character_class_configs.json\") as f:\n",
    "    reference_class_dict = json.load(f)\n",
    "    \n",
    "with open('item_config.json') as data_file:\n",
    "    item_data = json.load(data_file)"
   ]
  },
  {
   "cell_type": "code",
   "execution_count": 3,
   "metadata": {},
   "outputs": [],
   "source": [
    "char1_name = input(\"Player 1: What do you want your character's name to be?  \")\n",
    "char1_type = input(\"Player 1: What do you want your character's type to be?  \")\n",
    "# char1_item = input(\"Player 1: What do you want your character's item to be?  \")\n",
    "\n",
    "char2_name = input(\"Player 2: What do you want your character's name to be?  \")\n",
    "char2_type = input(\"Player 2: What do you want your character's type to be?  \")\n",
    "# char2_item = input(\"Player 2: What do you want your character's item to be?  \")\n",
    "\n",
    "char1 = Char(reference_class_dict, char1_type, char1_name)\n",
    "char2 = Char(reference_class_dict, char2_type, char2_name)\n"
   ]
  },
  {
   "cell_type": "code",
   "execution_count": 4,
   "metadata": {},
   "outputs": [],
   "source": [
    "\n",
    "\n",
    "char1_item = item(item_data['prison shank'])\n",
    "char2_item = item(item_data[\"Ian's bludgeon\"])\n"
   ]
  },
  {
   "cell_type": "code",
   "execution_count": 5,
   "metadata": {},
   "outputs": [],
   "source": [
    "char1.equip_item(char1_item)\n",
    "char2.equip_item(char2_item)"
   ]
  },
  {
   "cell_type": "code",
   "execution_count": 6,
   "metadata": {},
   "outputs": [
    {
     "data": {
      "text/plain": [
       "{'armor': None, 'weapon': <itemClass.item at 0x2416e01b370>}"
      ]
     },
     "execution_count": 6,
     "metadata": {},
     "output_type": "execute_result"
    }
   ],
   "source": [
    "char1.equipment\n",
    "char2.equipment\n"
   ]
  },
  {
   "cell_type": "code",
   "execution_count": 7,
   "metadata": {},
   "outputs": [],
   "source": [
    "colosseum = Arena(char1, char2)\n"
   ]
  },
  {
   "cell_type": "code",
   "execution_count": 8,
   "metadata": {},
   "outputs": [
    {
     "name": "stdout",
     "output_type": "stream",
     "text": [
      "Initiating Next Round of Combat!\n",
      "Char 1 health remaining:  11\n",
      "Char 2 health remaining:  7\n",
      "Initiating Next Round of Combat!\n",
      "Char 1 health remaining:  11\n",
      "Char 2 health remaining:  3\n",
      "Initiating Next Round of Combat!\n",
      "Char 1 health remaining:  11\n",
      "Char 2 health remaining:  -1\n",
      "Character 2 has been defeated. Congratulations, character 1!\n"
     ]
    }
   ],
   "source": [
    "colosseum.combat()"
   ]
  },
  {
   "cell_type": "code",
   "execution_count": null,
   "metadata": {},
   "outputs": [],
   "source": []
  },
  {
   "cell_type": "code",
   "execution_count": null,
   "metadata": {},
   "outputs": [],
   "source": []
  },
  {
   "cell_type": "code",
   "execution_count": null,
   "metadata": {},
   "outputs": [],
   "source": []
  },
  {
   "cell_type": "code",
   "execution_count": null,
   "metadata": {},
   "outputs": [],
   "source": []
  },
  {
   "cell_type": "code",
   "execution_count": null,
   "metadata": {},
   "outputs": [],
   "source": []
  },
  {
   "cell_type": "code",
   "execution_count": null,
   "metadata": {},
   "outputs": [],
   "source": []
  },
  {
   "cell_type": "code",
   "execution_count": null,
   "metadata": {},
   "outputs": [],
   "source": []
  },
  {
   "cell_type": "code",
   "execution_count": null,
   "metadata": {},
   "outputs": [],
   "source": []
  },
  {
   "cell_type": "code",
   "execution_count": null,
   "metadata": {},
   "outputs": [],
   "source": []
  }
 ],
 "metadata": {
  "kernelspec": {
   "display_name": "Python 3.10.5 64-bit",
   "language": "python",
   "name": "python3"
  },
  "language_info": {
   "codemirror_mode": {
    "name": "ipython",
    "version": 3
   },
   "file_extension": ".py",
   "mimetype": "text/x-python",
   "name": "python",
   "nbconvert_exporter": "python",
   "pygments_lexer": "ipython3",
   "version": "3.10.5"
  },
  "orig_nbformat": 4,
  "vscode": {
   "interpreter": {
    "hash": "9b4d75ac280b6c7c3aa43866cb82dc88915409b55fec83a093dd0284cb58708e"
   }
  }
 },
 "nbformat": 4,
 "nbformat_minor": 2
}
