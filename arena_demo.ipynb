{
 "cells": [
  {
   "cell_type": "code",
   "execution_count": 1,
   "metadata": {},
   "outputs": [],
   "source": [
    "import os\n",
    "from character import *\n",
    "from Arena_Class import *\n",
    "from itemClass import *\n",
    "import json\n"
   ]
  },
  {
   "cell_type": "code",
   "execution_count": 2,
   "metadata": {},
   "outputs": [],
   "source": [
    "with open(\"character_class_configs.json\") as f:\n",
    "    reference_class_dict = json.load(f)\n",
    "    \n",
    "with open('item_config.json') as data_file:\n",
    "    item_data = json.load(data_file)"
   ]
  },
  {
   "cell_type": "code",
   "execution_count": 3,
   "metadata": {},
   "outputs": [
    {
     "name": "stdout",
     "output_type": "stream",
     "text": [
      "dict_keys(['prison shank', 'rusty spoon', 'sword of 10 truths', \"Josh's long bow\", 'cruel bardiche', 'kite shield', \"Borden's hatchet\", \"Ian's bludgeon\", 'Wand'])\n"
     ]
    }
   ],
   "source": [
    "#Character 1 Profile information\n",
    "char1_name = input(\"Player 1: What do you want your character's name to be?  \")\n",
    "\n",
    "check_existence = False\n",
    "while check_existence == False:\n",
    "    char1_type = input(\"Player 1: What do you want your character's type to be?  Type 'list' to see a list: \")\n",
    "    if char1_type in reference_class_dict:\n",
    "        check_existence = True\n",
    "    elif char1_type == \"list\":\n",
    "        print(reference_class_dict.keys())\n",
    "\n",
    "check_existence = False\n",
    "while check_existence == False:\n",
    "    char1_item = input(\"Player 1: What do you want your character's item to be?  Type 'list' to see a list: \")\n",
    "    if char1_item in item_data:\n",
    "        check_existence = True\n",
    "    elif char1_item == \"list\":\n",
    "        print(item_data.keys())\n",
    "\n",
    "\n",
    "\n",
    "#Character 2 Profile information\n",
    "char2_name = input(\"Player 2: What do you want your character's name to be?  \")\n",
    "\n",
    "check_existence = False\n",
    "while check_existence == False:\n",
    "    char2_type = input(\"Player 2: What do you want your character's type to be?  Type 'list' to see a list: \")\n",
    "    if char2_type in reference_class_dict:\n",
    "        check_existence = True\n",
    "    elif char2_type == \"list\":\n",
    "        print(reference_class_dict.keys())\n",
    "\n",
    "check_existence = False\n",
    "while check_existence == False:\n",
    "    char2_item = input(\"Player 2: What do you want your character's item to be?  Type 'list' to see a list: \")\n",
    "    if char2_item in item_data:\n",
    "        check_existence = True\n",
    "    elif char2_item == \"list\":\n",
    "        print(item_data.keys())\n",
    "\n",
    "char1 = Char(reference_class_dict, char1_type, char1_name)\n",
    "char2 = Char(reference_class_dict, char2_type, char2_name)\n"
   ]
  },
  {
   "cell_type": "code",
   "execution_count": 4,
   "metadata": {},
   "outputs": [],
   "source": [
    "\n",
    "\n",
    "char1_item = item(item_data[char1_item])\n",
    "char2_item = item(item_data[char2_item])\n"
   ]
  },
  {
   "cell_type": "code",
   "execution_count": 5,
   "metadata": {},
   "outputs": [],
   "source": [
    "char1.equip_item(char1_item)\n",
    "char2.equip_item(char2_item)"
   ]
  },
  {
   "cell_type": "code",
   "execution_count": 6,
   "metadata": {},
   "outputs": [
    {
     "data": {
      "text/plain": [
       "{'armor': None, 'weapon': <itemClass.item at 0x268fc20e2c0>}"
      ]
     },
     "execution_count": 6,
     "metadata": {},
     "output_type": "execute_result"
    }
   ],
   "source": [
    "char1.equipment\n",
    "char2.equipment\n"
   ]
  },
  {
   "cell_type": "code",
   "execution_count": 7,
   "metadata": {},
   "outputs": [],
   "source": [
    "colosseum = Arena(char1, char2)\n"
   ]
  },
  {
   "cell_type": "code",
   "execution_count": 8,
   "metadata": {},
   "outputs": [
    {
     "name": "stdout",
     "output_type": "stream",
     "text": [
      "Initiating Next Round of Combat!\n",
      "Char 1 health remaining:  10\n",
      "Char 2 health remaining:  5\n",
      "Initiating Next Round of Combat!\n",
      "Char 1 health remaining:  9\n",
      "Char 2 health remaining:  -2\n",
      "Character 2 has been defeated. Congratulations, character 1!\n"
     ]
    }
   ],
   "source": [
    "colosseum.combat()"
   ]
  },
  {
   "cell_type": "code",
   "execution_count": 10,
   "metadata": {},
   "outputs": [
    {
     "data": {
      "text/plain": [
       "3"
      ]
     },
     "execution_count": 10,
     "metadata": {},
     "output_type": "execute_result"
    }
   ],
   "source": [
    "char2.dexterity"
   ]
  },
  {
   "cell_type": "code",
   "execution_count": null,
   "metadata": {},
   "outputs": [],
   "source": []
  },
  {
   "cell_type": "code",
   "execution_count": null,
   "metadata": {},
   "outputs": [],
   "source": []
  },
  {
   "cell_type": "code",
   "execution_count": null,
   "metadata": {},
   "outputs": [],
   "source": []
  },
  {
   "cell_type": "code",
   "execution_count": null,
   "metadata": {},
   "outputs": [],
   "source": []
  },
  {
   "cell_type": "code",
   "execution_count": null,
   "metadata": {},
   "outputs": [],
   "source": []
  },
  {
   "cell_type": "code",
   "execution_count": null,
   "metadata": {},
   "outputs": [],
   "source": []
  },
  {
   "cell_type": "code",
   "execution_count": null,
   "metadata": {},
   "outputs": [],
   "source": []
  }
 ],
 "metadata": {
  "kernelspec": {
   "display_name": "Python 3.10.0 64-bit",
   "language": "python",
   "name": "python3"
  },
  "language_info": {
   "codemirror_mode": {
    "name": "ipython",
    "version": 3
   },
   "file_extension": ".py",
   "mimetype": "text/x-python",
   "name": "python",
   "nbconvert_exporter": "python",
   "pygments_lexer": "ipython3",
   "version": "3.10.0"
  },
  "orig_nbformat": 4,
  "vscode": {
   "interpreter": {
    "hash": "11d7910bfc8060e85a0e9f5e63c127d08202729676548860242f2b147a5d8d1c"
   }
  }
 },
 "nbformat": 4,
 "nbformat_minor": 2
}
